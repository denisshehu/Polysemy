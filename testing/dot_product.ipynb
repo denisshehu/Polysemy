{
 "cells": [
  {
   "cell_type": "code",
   "execution_count": 1,
   "id": "initial_id",
   "metadata": {
    "collapsed": true,
    "ExecuteTime": {
     "end_time": "2023-10-11T20:35:40.516194100Z",
     "start_time": "2023-10-11T20:35:39.325563600Z"
    }
   },
   "outputs": [],
   "source": [
    "from models.point_cloud import *\n",
    "from methods.dot_product import *"
   ]
  },
  {
   "cell_type": "code",
   "execution_count": 2,
   "outputs": [],
   "source": [
    "points = sample_from_ball(10000, 2, 1, 1)"
   ],
   "metadata": {
    "collapsed": false,
    "ExecuteTime": {
     "end_time": "2023-10-11T20:35:40.548049600Z",
     "start_time": "2023-10-11T20:35:40.516194100Z"
    }
   },
   "id": "555fd3276a335392"
  },
  {
   "cell_type": "code",
   "execution_count": 3,
   "outputs": [],
   "source": [
    "point_cloud = PointCloud()\n",
    "point_cloud.random_constructor(points, 5, 1)"
   ],
   "metadata": {
    "collapsed": false,
    "ExecuteTime": {
     "end_time": "2023-10-11T20:35:40.565918600Z",
     "start_time": "2023-10-11T20:35:40.548049600Z"
    }
   },
   "id": "a352ad5883ba8fc6"
  },
  {
   "cell_type": "code",
   "execution_count": 4,
   "outputs": [],
   "source": [
    "calculate(point_cloud, 10, 'test')"
   ],
   "metadata": {
    "collapsed": false,
    "ExecuteTime": {
     "end_time": "2023-10-11T20:35:42.417412900Z",
     "start_time": "2023-10-11T20:35:40.565918600Z"
    }
   },
   "id": "e679af90fb58525a"
  }
 ],
 "metadata": {
  "kernelspec": {
   "display_name": "Python 3",
   "language": "python",
   "name": "python3"
  },
  "language_info": {
   "codemirror_mode": {
    "name": "ipython",
    "version": 2
   },
   "file_extension": ".py",
   "mimetype": "text/x-python",
   "name": "python",
   "nbconvert_exporter": "python",
   "pygments_lexer": "ipython2",
   "version": "2.7.6"
  }
 },
 "nbformat": 4,
 "nbformat_minor": 5
}
