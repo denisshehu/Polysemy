{
 "cells": [
  {
   "cell_type": "code",
   "execution_count": 1,
   "id": "initial_id",
   "metadata": {
    "collapsed": true,
    "ExecuteTime": {
     "end_time": "2024-01-09T23:33:34.805907Z",
     "start_time": "2024-01-09T23:33:33.460212600Z"
    }
   },
   "outputs": [],
   "source": [
    "from utils.main import *\n",
    "from utils.visualization_generation import *\n",
    "from ripser import ripser\n",
    "from persim import plot_diagrams"
   ]
  },
  {
   "cell_type": "code",
   "outputs": [],
   "source": [
    "n1, n2 = 20, 7\n",
    "s1, s2 = 3, 1\n",
    "r1, r2 = 2, 0.3\n",
    "seed1, seed2 = 9, 8\n",
    "proportion = 1"
   ],
   "metadata": {
    "collapsed": false,
    "ExecuteTime": {
     "end_time": "2024-01-09T23:33:34.824907600Z",
     "start_time": "2024-01-09T23:33:34.808906700Z"
    }
   },
   "id": "d6a2a89316a897d7",
   "execution_count": 2
  },
  {
   "cell_type": "code",
   "outputs": [],
   "source": [
    "data = figure(n1, s1, r1, seed1, n2, s2, r2, seed2, proportion)"
   ],
   "metadata": {
    "collapsed": false,
    "ExecuteTime": {
     "end_time": "2024-01-09T23:33:34.839007100Z",
     "start_time": "2024-01-09T23:33:34.821906800Z"
    }
   },
   "id": "144dc4eec092ad37",
   "execution_count": 3
  },
  {
   "cell_type": "code",
   "outputs": [],
   "source": [
    "data = np.delete(data, 25, axis=0)"
   ],
   "metadata": {
    "collapsed": false,
    "ExecuteTime": {
     "end_time": "2024-01-09T23:33:34.854006800Z",
     "start_time": "2024-01-09T23:33:34.838006400Z"
    }
   },
   "id": "56378d321aa48368",
   "execution_count": 4
  },
  {
   "cell_type": "code",
   "outputs": [],
   "source": [
    "data = np.delete(data, 14, axis=0)"
   ],
   "metadata": {
    "collapsed": false,
    "ExecuteTime": {
     "end_time": "2024-01-09T23:33:34.871517800Z",
     "start_time": "2024-01-09T23:33:34.854006800Z"
    }
   },
   "id": "a3ae187f65aad5ee",
   "execution_count": 5
  },
  {
   "cell_type": "code",
   "outputs": [],
   "source": [
    "data = np.delete(data, 10, axis=0)"
   ],
   "metadata": {
    "collapsed": false,
    "ExecuteTime": {
     "end_time": "2024-01-09T23:33:34.884522600Z",
     "start_time": "2024-01-09T23:33:34.870012800Z"
    }
   },
   "id": "891ee14d6a16f31f",
   "execution_count": 6
  },
  {
   "cell_type": "code",
   "outputs": [],
   "source": [
    "data = np.delete(data, 1, axis=0)"
   ],
   "metadata": {
    "collapsed": false,
    "ExecuteTime": {
     "end_time": "2024-01-09T23:33:34.901522700Z",
     "start_time": "2024-01-09T23:33:34.885522600Z"
    }
   },
   "id": "f27dbc4b108f777",
   "execution_count": 7
  },
  {
   "cell_type": "code",
   "outputs": [],
   "source": [
    "data = np.delete(data, 0, axis=0)"
   ],
   "metadata": {
    "collapsed": false,
    "ExecuteTime": {
     "end_time": "2024-01-09T23:33:34.917522900Z",
     "start_time": "2024-01-09T23:33:34.901522700Z"
    }
   },
   "id": "840aebaa4346c4c8",
   "execution_count": 8
  },
  {
   "cell_type": "code",
   "outputs": [],
   "source": [
    "data = np.vstack((data, np.array([[-2.6, -0.1], [1.6, -0.6], [1.3, -1.3], [2.1, -0.5]])))"
   ],
   "metadata": {
    "collapsed": false,
    "ExecuteTime": {
     "end_time": "2024-01-09T23:33:34.932522800Z",
     "start_time": "2024-01-09T23:33:34.917522900Z"
    }
   },
   "id": "84fcaec8fa1c2a56",
   "execution_count": 9
  },
  {
   "cell_type": "code",
   "outputs": [],
   "source": [
    "plot_scatterplot([p[0] for p in data], [p[1] for p in data], figure_name='plot')"
   ],
   "metadata": {
    "collapsed": false,
    "ExecuteTime": {
     "end_time": "2024-01-09T23:33:35.374564800Z",
     "start_time": "2024-01-09T23:33:34.932522800Z"
    }
   },
   "id": "d32b76c9a28eaab8",
   "execution_count": 10
  },
  {
   "cell_type": "code",
   "outputs": [],
   "source": [
    "with open('C:\\\\Users\\\\its_d\\\\Desktop\\\\pc.txt', 'w') as file:\n",
    "    for p in data:\n",
    "        file.write(f'{p[0]} {p[1]}\\n')"
   ],
   "metadata": {
    "collapsed": false,
    "ExecuteTime": {
     "end_time": "2024-01-09T23:33:35.391389700Z",
     "start_time": "2024-01-09T23:33:35.376563500Z"
    }
   },
   "id": "7ad9e0e7a66983c2",
   "execution_count": 11
  },
  {
   "cell_type": "code",
   "outputs": [
    {
     "data": {
      "text/plain": "<Figure size 640x480 with 1 Axes>",
      "image/png": "[encoded data removed]"
     },
     "metadata": {},
     "output_type": "display_data"
    }
   ],
   "source": [
    "diagrams = ripser(data)['dgms']\n",
    "plot_diagrams(diagrams, show=True)"
   ],
   "metadata": {
    "collapsed": false,
    "ExecuteTime": {
     "end_time": "2024-01-09T23:33:35.550413Z",
     "start_time": "2024-01-09T23:33:35.391389700Z"
    }
   },
   "id": "941c42d2b7494ed5",
   "execution_count": 12
  }
 ],
 "metadata": {
  "kernelspec": {
   "display_name": "Python 3",
   "language": "python",
   "name": "python3"
  },
  "language_info": {
   "codemirror_mode": {
    "name": "ipython",
    "version": 2
   },
   "file_extension": ".py",
   "mimetype": "text/x-python",
   "name": "python",
   "nbconvert_exporter": "python",
   "pygments_lexer": "ipython2",
   "version": "2.7.6"
  }
 },
 "nbformat": 4,
 "nbformat_minor": 5
}
