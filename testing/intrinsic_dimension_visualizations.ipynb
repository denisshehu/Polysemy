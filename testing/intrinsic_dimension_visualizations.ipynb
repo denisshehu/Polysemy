{
 "cells": [
  {
   "cell_type": "code",
   "execution_count": null,
   "id": "initial_id",
   "metadata": {
    "collapsed": true
   },
   "outputs": [],
   "source": [
    "from models.point_cloud import *\n",
    "from methods.intrinsic_dimension_estimators.danco import *"
   ]
  },
  {
   "cell_type": "code",
   "execution_count": null,
   "outputs": [],
   "source": [
    "points = sample_from_sphere(1000, 2, 1, 1, 3)"
   ],
   "metadata": {
    "collapsed": false
   },
   "id": "bb508bc77a6062ac"
  },
  {
   "cell_type": "code",
   "execution_count": null,
   "outputs": [],
   "source": [
    "plot_3d_scatterplot(points, points[:, 0])"
   ],
   "metadata": {
    "collapsed": false
   },
   "id": "f92198ae8b93c452"
  },
  {
   "cell_type": "code",
   "execution_count": null,
   "outputs": [],
   "source": [
    "point_cloud = PointCloud()\n",
    "point_cloud.random_constructor(points, 10, 1)"
   ],
   "metadata": {
    "collapsed": false
   },
   "id": "8a65492adca40405"
  },
  {
   "cell_type": "code",
   "execution_count": null,
   "outputs": [],
   "source": [
    "estimate(point_cloud, 20, 30, 'test')"
   ],
   "metadata": {
    "collapsed": false
   },
   "id": "9d39c9cffe2807a"
  },
  {
   "cell_type": "code",
   "execution_count": null,
   "outputs": [],
   "source": [
    "visualize_dimension(point_cloud, 'sphere', True, 'plasma')"
   ],
   "metadata": {
    "collapsed": false
   },
   "id": "14ea52de8decfa8f"
  },
  {
   "cell_type": "markdown",
   "source": [],
   "metadata": {
    "collapsed": false
   },
   "id": "c6308bff3525e89f"
  },
  {
   "cell_type": "code",
   "execution_count": null,
   "outputs": [],
   "source": [
    "point_cloud2 = load_yaml(os.path.join(results_directory, 'test_words_point_cloud.yaml'))"
   ],
   "metadata": {
    "collapsed": false
   },
   "id": "e2f41c777e6f89bc"
  },
  {
   "cell_type": "code",
   "execution_count": null,
   "outputs": [],
   "source": [
    "# point_cloud2 = PointCloud()\n",
    "# point_cloud2.embeddings_constructor(word2vec_embeddings_path, 100)"
   ],
   "metadata": {
    "collapsed": false
   },
   "id": "41c1a9f6155e432a"
  },
  {
   "cell_type": "code",
   "execution_count": null,
   "outputs": [],
   "source": [
    "# estimate(point_cloud2, 20, 30, 'test_words')"
   ],
   "metadata": {
    "collapsed": false
   },
   "id": "85f0ec60690a7ed7"
  },
  {
   "cell_type": "code",
   "execution_count": null,
   "outputs": [],
   "source": [
    "visualize_dimension(point_cloud2, 'words', True, 'plasma')"
   ],
   "metadata": {
    "collapsed": false
   },
   "id": "f2551b2d13ff553c"
  },
  {
   "cell_type": "markdown",
   "source": [],
   "metadata": {
    "collapsed": false
   },
   "id": "c196be4ccf7340ba"
  }
 ],
 "metadata": {
  "kernelspec": {
   "display_name": "Python 3",
   "language": "python",
   "name": "python3"
  },
  "language_info": {
   "codemirror_mode": {
    "name": "ipython",
    "version": 2
   },
   "file_extension": ".py",
   "mimetype": "text/x-python",
   "name": "python",
   "nbconvert_exporter": "python",
   "pygments_lexer": "ipython2",
   "version": "2.7.6"
  }
 },
 "nbformat": 4,
 "nbformat_minor": 5
}
