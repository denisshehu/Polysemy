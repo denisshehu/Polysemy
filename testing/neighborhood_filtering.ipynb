{
 "cells": [
  {
   "cell_type": "code",
   "execution_count": 1,
   "id": "initial_id",
   "metadata": {
    "collapsed": true,
    "ExecuteTime": {
     "end_time": "2024-01-15T12:11:03.671638900Z",
     "start_time": "2024-01-15T12:11:01.646918100Z"
    }
   },
   "outputs": [],
   "source": [
    "from models.point_cloud import *\n",
    "import winsound"
   ]
  },
  {
   "cell_type": "code",
   "outputs": [],
   "source": [
    "# embeddings_path = glove_embeddings_path\n",
    "# neighborhood_size = 200"
   ],
   "metadata": {
    "collapsed": false,
    "ExecuteTime": {
     "end_time": "2024-01-15T12:11:03.686936100Z",
     "start_time": "2024-01-15T12:11:03.672722300Z"
    }
   },
   "id": "d7da6f2d8779e766",
   "execution_count": 2
  },
  {
   "cell_type": "code",
   "outputs": [],
   "source": [
    "# point_cloud = PointCloud()\n",
    "# point_cloud.embeddings_constructor(embeddings_path, neighborhood_size, filter_word_embeddings=True)"
   ],
   "metadata": {
    "collapsed": false,
    "ExecuteTime": {
     "end_time": "2024-01-15T12:11:03.704117800Z",
     "start_time": "2024-01-15T12:11:03.687917600Z"
    }
   },
   "id": "ef5eed65bb282c4a",
   "execution_count": 3
  },
  {
   "cell_type": "code",
   "outputs": [],
   "source": [
    "embeddings_paths = [word2vec_embeddings_path, fasttext_embeddings_path, glove_embeddings_path]"
   ],
   "metadata": {
    "collapsed": false,
    "ExecuteTime": {
     "end_time": "2024-01-15T12:11:03.718093100Z",
     "start_time": "2024-01-15T12:11:03.705074700Z"
    }
   },
   "id": "8ba59626f6be064b",
   "execution_count": 4
  },
  {
   "cell_type": "code",
   "outputs": [
    {
     "name": "stdout",
     "output_type": "stream",
     "text": [
      "C:\\Users\\its_d\\Documents\\GitHub\\Polysemy\\embeddings\\word2vec.bin: 113105 / 3000000 (2886895, 3.8)\n",
      "C:\\Users\\its_d\\Documents\\GitHub\\Polysemy\\embeddings\\fasttext.bin: 115488 / 2000000 (1884512, 5.8)\n",
      "C:\\Users\\its_d\\Documents\\GitHub\\Polysemy\\embeddings\\glove.txt: 116692 / 1917494 (1800802, 6.1)\n"
     ]
    }
   ],
   "source": [
    "for embeddings_path in embeddings_paths:\n",
    "    embeddings = load_embeddings(embeddings_path)\n",
    "    filtered_embeddings = filter_embeddings(embeddings)\n",
    "    print(f'{embeddings_path}: {len(filtered_embeddings)} / {len(embeddings)} ({len(embeddings) - len(filtered_embeddings)}, {100 * len(filtered_embeddings) / len(embeddings):.1f})')"
   ],
   "metadata": {
    "collapsed": false,
    "ExecuteTime": {
     "end_time": "2024-01-15T12:18:56.058769900Z",
     "start_time": "2024-01-15T12:11:03.720074300Z"
    }
   },
   "id": "c71855a6592df7c7",
   "execution_count": 5
  },
  {
   "cell_type": "code",
   "outputs": [],
   "source": [
    "winsound.Beep(500, 3000)"
   ],
   "metadata": {
    "collapsed": false,
    "ExecuteTime": {
     "end_time": "2024-01-15T12:18:59.082376400Z",
     "start_time": "2024-01-15T12:18:56.062769500Z"
    }
   },
   "id": "76ac65782a2f7d1f",
   "execution_count": 6
  }
 ],
 "metadata": {
  "kernelspec": {
   "display_name": "Python 3",
   "language": "python",
   "name": "python3"
  },
  "language_info": {
   "codemirror_mode": {
    "name": "ipython",
    "version": 2
   },
   "file_extension": ".py",
   "mimetype": "text/x-python",
   "name": "python",
   "nbconvert_exporter": "python",
   "pygments_lexer": "ipython2",
   "version": "2.7.6"
  }
 },
 "nbformat": 4,
 "nbformat_minor": 5
}
