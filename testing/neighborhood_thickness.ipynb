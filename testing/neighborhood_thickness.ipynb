{
 "cells": [
  {
   "cell_type": "code",
   "execution_count": 1,
   "id": "initial_id",
   "metadata": {
    "collapsed": true,
    "ExecuteTime": {
     "end_time": "2023-10-15T00:09:11.554697600Z",
     "start_time": "2023-10-15T00:09:10.201843900Z"
    }
   },
   "outputs": [],
   "source": [
    "from models.point_cloud import *\n",
    "from methods.neighborhood_thickness import *"
   ]
  },
  {
   "cell_type": "code",
   "execution_count": 2,
   "outputs": [],
   "source": [
    "point_cloud = PointCloud()\n",
    "point_cloud.embeddings_constructor(word2vec_embeddings_path, 200)"
   ],
   "metadata": {
    "collapsed": false,
    "ExecuteTime": {
     "end_time": "2023-10-15T00:09:39.392768600Z",
     "start_time": "2023-10-15T00:09:11.554697600Z"
    }
   },
   "id": "ba1e6ae4b390d976"
  },
  {
   "cell_type": "code",
   "execution_count": 12,
   "outputs": [],
   "source": [
    "k = 20"
   ],
   "metadata": {
    "collapsed": false,
    "ExecuteTime": {
     "end_time": "2023-10-15T00:10:28.092867900Z",
     "start_time": "2023-10-15T00:10:28.090587200Z"
    }
   },
   "id": "e7c057942359ed5"
  },
  {
   "cell_type": "code",
   "execution_count": 13,
   "outputs": [],
   "source": [
    "calculate(point_cloud, k, 'test')"
   ],
   "metadata": {
    "collapsed": false,
    "ExecuteTime": {
     "end_time": "2023-10-15T00:10:56.417258800Z",
     "start_time": "2023-10-15T00:10:28.450307700Z"
    }
   },
   "id": "9f8c06fd7a7b12c0"
  },
  {
   "cell_type": "code",
   "execution_count": 14,
   "outputs": [],
   "source": [
    "originals = [query.original_neighborhood_thickness for query in point_cloud.queries]"
   ],
   "metadata": {
    "collapsed": false,
    "ExecuteTime": {
     "end_time": "2023-10-15T00:10:56.433067300Z",
     "start_time": "2023-10-15T00:10:56.422743300Z"
    }
   },
   "id": "fe226d69118d8345"
  },
  {
   "cell_type": "code",
   "execution_count": 15,
   "outputs": [],
   "source": [
    "translated = [query.translated_neighborhood_thickness for query in point_cloud.queries]"
   ],
   "metadata": {
    "collapsed": false,
    "ExecuteTime": {
     "end_time": "2023-10-15T00:10:56.448821800Z",
     "start_time": "2023-10-15T00:10:56.433067300Z"
    }
   },
   "id": "80e1547cab6fcbab"
  },
  {
   "cell_type": "code",
   "execution_count": 16,
   "outputs": [],
   "source": [
    "dataframe = load_csv(os.path.join(results_directory, f'word2vec_{k}.csv'))"
   ],
   "metadata": {
    "collapsed": false,
    "ExecuteTime": {
     "end_time": "2023-10-15T00:10:56.464483800Z",
     "start_time": "2023-10-15T00:10:56.448821800Z"
    }
   },
   "id": "5ba95970a832eac1"
  },
  {
   "cell_type": "code",
   "execution_count": 17,
   "outputs": [],
   "source": [
    "originals_old = list(dataframe['Original'])"
   ],
   "metadata": {
    "collapsed": false,
    "ExecuteTime": {
     "end_time": "2023-10-15T00:10:56.480113500Z",
     "start_time": "2023-10-15T00:10:56.464483800Z"
    }
   },
   "id": "3e7dc9c12dbc6ef"
  },
  {
   "cell_type": "code",
   "execution_count": 18,
   "outputs": [],
   "source": [
    "translated_old = list(dataframe['Translated'])"
   ],
   "metadata": {
    "collapsed": false,
    "ExecuteTime": {
     "end_time": "2023-10-15T00:10:56.496309200Z",
     "start_time": "2023-10-15T00:10:56.480113500Z"
    }
   },
   "id": "7b86a747db10037b"
  },
  {
   "cell_type": "code",
   "execution_count": 19,
   "outputs": [],
   "source": [
    "for i in range(len(originals)):\n",
    "    if originals[i] != originals_old[i]:\n",
    "        print(originals[i], originals_old[i])"
   ],
   "metadata": {
    "collapsed": false,
    "ExecuteTime": {
     "end_time": "2023-10-15T00:10:56.515952700Z",
     "start_time": "2023-10-15T00:10:56.500122100Z"
    }
   },
   "id": "4dc227337b1f232d"
  },
  {
   "cell_type": "code",
   "execution_count": 20,
   "outputs": [
    {
     "name": "stdout",
     "output_type": "stream",
     "text": [
      "91.97940943966907 91.97940943966908\n",
      "90.89483208570681 90.8948320857068\n"
     ]
    }
   ],
   "source": [
    "for i in range(len(translated)):\n",
    "    if translated[i] != translated_old[i]:\n",
    "        print(translated[i], translated_old[i])"
   ],
   "metadata": {
    "collapsed": false,
    "ExecuteTime": {
     "end_time": "2023-10-15T00:10:56.531575700Z",
     "start_time": "2023-10-15T00:10:56.515952700Z"
    }
   },
   "id": "baac780e47db7a15"
  },
  {
   "cell_type": "markdown",
   "source": [],
   "metadata": {
    "collapsed": false
   },
   "id": "c392958d65c59895"
  }
 ],
 "metadata": {
  "kernelspec": {
   "display_name": "Python 3",
   "language": "python",
   "name": "python3"
  },
  "language_info": {
   "codemirror_mode": {
    "name": "ipython",
    "version": 2
   },
   "file_extension": ".py",
   "mimetype": "text/x-python",
   "name": "python",
   "nbconvert_exporter": "python",
   "pygments_lexer": "ipython2",
   "version": "2.7.6"
  }
 },
 "nbformat": 4,
 "nbformat_minor": 5
}
