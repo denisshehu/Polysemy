{
 "cells": [
  {
   "cell_type": "code",
   "outputs": [],
   "source": [
    "from utils.main import *"
   ],
   "metadata": {
    "collapsed": false,
    "ExecuteTime": {
     "end_time": "2024-01-17T17:50:46.770818Z",
     "start_time": "2024-01-17T17:50:45.281626200Z"
    }
   },
   "id": "74bb013c52218183",
   "execution_count": 1
  },
  {
   "cell_type": "code",
   "execution_count": 2,
   "id": "initial_id",
   "metadata": {
    "collapsed": true,
    "ExecuteTime": {
     "end_time": "2024-01-17T17:50:46.787843800Z",
     "start_time": "2024-01-17T17:50:46.774076700Z"
    }
   },
   "outputs": [],
   "source": [
    "p = [[[0, 1], [0, 1.1], [0, 1.3]],\n",
    "     [[0, 0.3]],\n",
    "     [[0, 2]]]"
   ]
  },
  {
   "cell_type": "code",
   "outputs": [
    {
     "data": {
      "text/plain": "[array([[0. , 1. ],\n        [0. , 1.1],\n        [0. , 1.3]]),\n array([], dtype=float64),\n array([[0, 2]])]"
     },
     "execution_count": 3,
     "metadata": {},
     "output_type": "execute_result"
    }
   ],
   "source": [
    "a = filter_persistence_diagrams_dynamic(p)\n",
    "a"
   ],
   "metadata": {
    "collapsed": false,
    "ExecuteTime": {
     "end_time": "2024-01-17T17:50:46.816639900Z",
     "start_time": "2024-01-17T17:50:46.789115200Z"
    }
   },
   "id": "5ccfe6e4dea33ab2",
   "execution_count": 3
  },
  {
   "cell_type": "code",
   "outputs": [
    {
     "data": {
      "text/plain": "[array([[0. , 1. ],\n        [0. , 1.1],\n        [0. , 1.3]]),\n array([[0. , 0.3]]),\n array([[0, 2]])]"
     },
     "execution_count": 4,
     "metadata": {},
     "output_type": "execute_result"
    }
   ],
   "source": [
    "b = filter_persistence_diagrams_static(p, 0)\n",
    "b"
   ],
   "metadata": {
    "collapsed": false,
    "ExecuteTime": {
     "end_time": "2024-01-17T17:50:46.821620200Z",
     "start_time": "2024-01-17T17:50:46.806892200Z"
    }
   },
   "id": "887eee5b0f6a8c55",
   "execution_count": 4
  },
  {
   "cell_type": "code",
   "outputs": [
    {
     "name": "stdout",
     "output_type": "stream",
     "text": [
      "2\n"
     ]
    }
   ],
   "source": [
    "for i in range(len(a) - 1, -1, -1):\n",
    "    if len(a[i]) > 0:\n",
    "        print(i)\n",
    "        break"
   ],
   "metadata": {
    "collapsed": false,
    "ExecuteTime": {
     "end_time": "2024-01-17T17:50:46.849503100Z",
     "start_time": "2024-01-17T17:50:46.819918700Z"
    }
   },
   "id": "f0c01433a5e6cc34",
   "execution_count": 5
  },
  {
   "cell_type": "code",
   "outputs": [],
   "source": [],
   "metadata": {
    "collapsed": false
   },
   "id": "9cf555c54a350808"
  }
 ],
 "metadata": {
  "kernelspec": {
   "display_name": "Python 3",
   "language": "python",
   "name": "python3"
  },
  "language_info": {
   "codemirror_mode": {
    "name": "ipython",
    "version": 2
   },
   "file_extension": ".py",
   "mimetype": "text/x-python",
   "name": "python",
   "nbconvert_exporter": "python",
   "pygments_lexer": "ipython2",
   "version": "2.7.6"
  }
 },
 "nbformat": 4,
 "nbformat_minor": 5
}
