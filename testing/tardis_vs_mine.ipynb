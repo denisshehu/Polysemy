{
 "cells": [
  {
   "cell_type": "code",
   "execution_count": 1,
   "outputs": [],
   "source": [
    "from models.point_cloud import *"
   ],
   "metadata": {
    "collapsed": false,
    "ExecuteTime": {
     "end_time": "2023-12-14T12:53:59.648200200Z",
     "start_time": "2023-12-14T12:53:58.279597200Z"
    }
   },
   "id": "7a6829e2750818fa"
  },
  {
   "cell_type": "code",
   "execution_count": 2,
   "id": "initial_id",
   "metadata": {
    "collapsed": true,
    "ExecuteTime": {
     "end_time": "2023-12-14T12:53:59.656177600Z",
     "start_time": "2023-12-14T12:53:59.641180200Z"
    }
   },
   "outputs": [],
   "source": [
    "n = 20000\n",
    "intrinsic_dimension = 2\n",
    "r = 1\n",
    "seed = 1\n",
    "ambient_dimension = 2\n",
    "neighborhood_size = 50\n",
    "maximum_dimension = 10\n",
    "n_steps = 10"
   ]
  },
  {
   "cell_type": "code",
   "execution_count": 3,
   "outputs": [],
   "source": [
    "points = sample_from_ball(n, intrinsic_dimension, r, seed, ambient_dimension)"
   ],
   "metadata": {
    "collapsed": false,
    "ExecuteTime": {
     "end_time": "2023-12-14T12:53:59.717949900Z",
     "start_time": "2023-12-14T12:53:59.655176900Z"
    }
   },
   "id": "214c4d8a2ff8adae"
  },
  {
   "cell_type": "code",
   "execution_count": 4,
   "outputs": [
    {
     "data": {
      "text/plain": "<Figure size 640x480 with 2 Axes>",
      "image/png": "[encoded data removed]"
     },
     "metadata": {},
     "output_type": "display_data"
    }
   ],
   "source": [
    "plot_3d_scatterplot(points)"
   ],
   "metadata": {
    "collapsed": false,
    "ExecuteTime": {
     "end_time": "2023-12-14T12:54:00.508867900Z",
     "start_time": "2023-12-14T12:53:59.721946900Z"
    }
   },
   "id": "932609f55e0ef21f"
  },
  {
   "cell_type": "code",
   "execution_count": 5,
   "outputs": [],
   "source": [
    "point_cloud = PointCloud()\n",
    "# point_cloud.non_random_constructor(points, np.array(ambient_dimension*[0]))\n",
    "point_cloud.random_constructor(points, 100)"
   ],
   "metadata": {
    "collapsed": false,
    "ExecuteTime": {
     "end_time": "2023-12-14T12:54:00.548517600Z",
     "start_time": "2023-12-14T12:54:00.513876Z"
    }
   },
   "id": "47e2041934adfd89"
  },
  {
   "cell_type": "code",
   "execution_count": 6,
   "outputs": [],
   "source": [
    "from methods.tardis import *"
   ],
   "metadata": {
    "collapsed": false,
    "ExecuteTime": {
     "end_time": "2023-12-14T12:54:00.549518500Z",
     "start_time": "2023-12-14T12:54:00.522390200Z"
    }
   },
   "id": "a33cde0822b69af7"
  },
  {
   "cell_type": "code",
   "execution_count": 7,
   "outputs": [],
   "source": [
    "execute(point_cloud, neighborhood_size, maximum_dimension, n_steps)"
   ],
   "metadata": {
    "collapsed": false,
    "ExecuteTime": {
     "end_time": "2023-12-14T12:54:10.720413Z",
     "start_time": "2023-12-14T12:54:00.537107400Z"
    }
   },
   "id": "398caf815eb71ca9"
  },
  {
   "cell_type": "code",
   "execution_count": 8,
   "outputs": [],
   "source": [
    "visualize_dimension(point_cloud, 'a', include_individual_plots=False)"
   ],
   "metadata": {
    "collapsed": false,
    "ExecuteTime": {
     "end_time": "2023-12-14T12:54:11.245912500Z",
     "start_time": "2023-12-14T12:54:10.722445700Z"
    }
   },
   "id": "632186289ac101c5"
  },
  {
   "cell_type": "code",
   "execution_count": null,
   "outputs": [],
   "source": [
    "from methods.euclidicity import *"
   ],
   "metadata": {
    "collapsed": false
   },
   "id": "5bea6f079403a501"
  },
  {
   "cell_type": "code",
   "execution_count": null,
   "outputs": [],
   "source": [
    "from methods.intrinsic_dimension_estimators.pid import *"
   ],
   "metadata": {
    "collapsed": false
   },
   "id": "b69a03ff62a1e1b4"
  },
  {
   "cell_type": "code",
   "execution_count": null,
   "outputs": [],
   "source": [
    "estimate(point_cloud, neighborhood_size, maximum_dimension, n_steps=n_steps)"
   ],
   "metadata": {
    "collapsed": false
   },
   "id": "bd8adafc3135bc55"
  },
  {
   "cell_type": "code",
   "execution_count": null,
   "outputs": [],
   "source": [
    "calculate(point_cloud, neighborhood_size, n_steps=n_steps)"
   ],
   "metadata": {
    "collapsed": false
   },
   "id": "adcc7041d800006a"
  },
  {
   "cell_type": "code",
   "execution_count": null,
   "outputs": [],
   "source": [],
   "metadata": {
    "collapsed": false
   },
   "id": "2aad2778c21a069a"
  },
  {
   "cell_type": "code",
   "execution_count": null,
   "outputs": [],
   "source": [
    "a = [[[0, 0], [0, 0.1]], [[1, 1.05], [1, 1.01]], [[2, 2.1], [2, 2.5]]]"
   ],
   "metadata": {
    "collapsed": false
   },
   "id": "7d58bdd03831a20c"
  },
  {
   "cell_type": "code",
   "execution_count": null,
   "outputs": [],
   "source": [
    "filter_persistence_diagrams(a)"
   ],
   "metadata": {
    "collapsed": false
   },
   "id": "671ffeab69add6e4"
  },
  {
   "cell_type": "code",
   "execution_count": null,
   "outputs": [],
   "source": [],
   "metadata": {
    "collapsed": false
   },
   "id": "756fa79ed0fe7c14"
  }
 ],
 "metadata": {
  "kernelspec": {
   "display_name": "Python 3",
   "language": "python",
   "name": "python3"
  },
  "language_info": {
   "codemirror_mode": {
    "name": "ipython",
    "version": 2
   },
   "file_extension": ".py",
   "mimetype": "text/x-python",
   "name": "python",
   "nbconvert_exporter": "python",
   "pygments_lexer": "ipython2",
   "version": "2.7.6"
  }
 },
 "nbformat": 4,
 "nbformat_minor": 5
}
