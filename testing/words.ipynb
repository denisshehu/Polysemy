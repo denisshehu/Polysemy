{
 "cells": [
  {
   "cell_type": "code",
   "execution_count": 1,
   "id": "initial_id",
   "metadata": {
    "collapsed": true,
    "ExecuteTime": {
     "end_time": "2024-01-03T11:43:00.069041500Z",
     "start_time": "2024-01-03T11:42:58.392973600Z"
    }
   },
   "outputs": [],
   "source": [
    "from utils.main import *"
   ]
  },
  {
   "cell_type": "code",
   "execution_count": 2,
   "outputs": [],
   "source": [
    "word_collection = load_yaml(semcor)"
   ],
   "metadata": {
    "collapsed": false,
    "ExecuteTime": {
     "end_time": "2024-01-03T11:43:31.791060800Z",
     "start_time": "2024-01-03T11:43:00.072233500Z"
    }
   },
   "id": "b32228bf05cf15d"
  },
  {
   "cell_type": "markdown",
   "source": [],
   "metadata": {
    "collapsed": false
   },
   "id": "db5cd4ae0fb0c8cb"
  },
  {
   "cell_type": "code",
   "execution_count": 3,
   "outputs": [],
   "source": [
    "monosemes = word_collection.get_monosemes(use_n_total_senses=True)"
   ],
   "metadata": {
    "collapsed": false,
    "ExecuteTime": {
     "end_time": "2024-01-03T11:43:31.828596800Z",
     "start_time": "2024-01-03T11:43:31.791060800Z"
    }
   },
   "id": "ed020c785bd58e60"
  },
  {
   "cell_type": "code",
   "execution_count": 4,
   "outputs": [],
   "source": [
    "monosemes = [(word.value, list(word.pos_counts.keys()), word.n_total_senses, word.count) for word in monosemes.words.values()]"
   ],
   "metadata": {
    "collapsed": false,
    "ExecuteTime": {
     "end_time": "2024-01-03T11:43:31.838048500Z",
     "start_time": "2024-01-03T11:43:31.829637300Z"
    }
   },
   "id": "8d26e19574f37c11"
  },
  {
   "cell_type": "code",
   "execution_count": 5,
   "outputs": [],
   "source": [
    "monosemes = sorted(monosemes, key=lambda x: x[-1], reverse=True)"
   ],
   "metadata": {
    "collapsed": false,
    "ExecuteTime": {
     "end_time": "2024-01-03T11:43:31.859150Z",
     "start_time": "2024-01-03T11:43:31.839094800Z"
    }
   },
   "id": "6690c6ef79b7ed39"
  },
  {
   "cell_type": "code",
   "execution_count": 6,
   "outputs": [],
   "source": [
    "nouns = [word for word in monosemes if 'NOUN' in word[1]]"
   ],
   "metadata": {
    "collapsed": false,
    "ExecuteTime": {
     "end_time": "2024-01-03T11:43:31.869862200Z",
     "start_time": "2024-01-03T11:43:31.858052400Z"
    }
   },
   "id": "47324982da2945f4"
  },
  {
   "cell_type": "code",
   "execution_count": 7,
   "outputs": [],
   "source": [
    "nouns_to_remove = ['percent', 'jew', 'england']\n",
    "for i in range(2):\n",
    "    for word in nouns:\n",
    "        if word[0] in nouns_to_remove:\n",
    "            nouns.remove(word)"
   ],
   "metadata": {
    "collapsed": false,
    "ExecuteTime": {
     "end_time": "2024-01-03T11:43:31.890929600Z",
     "start_time": "2024-01-03T11:43:31.869862200Z"
    }
   },
   "id": "5e83d975feeabba"
  },
  {
   "cell_type": "code",
   "execution_count": 8,
   "outputs": [],
   "source": [
    "nouns = nouns[:10]"
   ],
   "metadata": {
    "collapsed": false,
    "ExecuteTime": {
     "end_time": "2024-01-03T11:43:31.901446100Z",
     "start_time": "2024-01-03T11:43:31.885678600Z"
    }
   },
   "id": "924a038b656b6fb"
  },
  {
   "cell_type": "code",
   "execution_count": 9,
   "outputs": [],
   "source": [
    "verbs = [word for word in monosemes if 'VERB' in word[1]]"
   ],
   "metadata": {
    "collapsed": false,
    "ExecuteTime": {
     "end_time": "2024-01-03T11:43:31.923362500Z",
     "start_time": "2024-01-03T11:43:31.901446100Z"
    }
   },
   "id": "41c32a7b3cdd3556"
  },
  {
   "cell_type": "code",
   "execution_count": 10,
   "outputs": [],
   "source": [
    "verbs = verbs[:10]"
   ],
   "metadata": {
    "collapsed": false,
    "ExecuteTime": {
     "end_time": "2024-01-03T11:43:31.933885300Z",
     "start_time": "2024-01-03T11:43:31.919138800Z"
    }
   },
   "id": "9eeb67230b5103c0"
  },
  {
   "cell_type": "code",
   "execution_count": 11,
   "outputs": [],
   "source": [
    "monosemes = nouns + verbs"
   ],
   "metadata": {
    "collapsed": false,
    "ExecuteTime": {
     "end_time": "2024-01-03T11:43:31.954245Z",
     "start_time": "2024-01-03T11:43:31.936019900Z"
    }
   },
   "id": "3ad1cfe6256aa6e1"
  },
  {
   "cell_type": "code",
   "execution_count": 12,
   "outputs": [
    {
     "data": {
      "text/plain": "[('wife', ['NOUN'], 1, 120),\n ('opportunity', ['NOUN'], 1, 59),\n ('employee', ['NOUN'], 1, 57),\n ('dictionary', ['NOUN'], 1, 52),\n ('income', ['NOUN'], 1, 45),\n ('artist', ['NOUN'], 1, 44),\n ('emotion', ['NOUN'], 1, 44),\n ('equipment', ['NOUN'], 1, 44),\n ('kitchen', ['NOUN'], 1, 42),\n ('hotel', ['NOUN'], 1, 39),\n ('achieve', ['VERB'], 1, 92),\n ('enable', ['VERB'], 1, 38),\n ('compute', ['VERB'], 1, 35),\n ('deserve', ['VERB'], 1, 28),\n ('compete', ['VERB'], 1, 24),\n ('resemble', ['VERB'], 1, 22),\n ('flee', ['VERB'], 1, 21),\n ('cooperate', ['VERB'], 1, 20),\n ('await', ['VERB'], 1, 19),\n ('detect', ['VERB'], 1, 17)]"
     },
     "execution_count": 12,
     "metadata": {},
     "output_type": "execute_result"
    }
   ],
   "source": [
    "monosemes"
   ],
   "metadata": {
    "collapsed": false,
    "ExecuteTime": {
     "end_time": "2024-01-03T11:43:31.964839900Z",
     "start_time": "2024-01-03T11:43:31.953130500Z"
    }
   },
   "id": "55c185cdb01f130c"
  },
  {
   "cell_type": "code",
   "execution_count": 13,
   "outputs": [],
   "source": [
    "# monosemes"
   ],
   "metadata": {
    "collapsed": false,
    "ExecuteTime": {
     "end_time": "2024-01-03T11:43:31.999969200Z",
     "start_time": "2024-01-03T11:43:31.964788300Z"
    }
   },
   "id": "747a0bd07b6983d0"
  },
  {
   "cell_type": "markdown",
   "source": [],
   "metadata": {
    "collapsed": false
   },
   "id": "6d2c040dde46fd20"
  },
  {
   "cell_type": "code",
   "execution_count": 14,
   "outputs": [],
   "source": [
    "polysemes = word_collection.get_polysemes(use_n_total_senses=True)"
   ],
   "metadata": {
    "collapsed": false,
    "ExecuteTime": {
     "end_time": "2024-01-03T11:43:32.009632700Z",
     "start_time": "2024-01-03T11:43:31.999969200Z"
    }
   },
   "id": "77413af93bd2083a"
  },
  {
   "cell_type": "code",
   "execution_count": 15,
   "outputs": [],
   "source": [
    "inter_polysemes = [(word.value, word.count, word.sense_counts, word.pos_counts) for word in polysemes.words.values()]"
   ],
   "metadata": {
    "collapsed": false,
    "ExecuteTime": {
     "end_time": "2024-01-03T11:43:32.036636800Z",
     "start_time": "2024-01-03T11:43:32.010680200Z"
    }
   },
   "id": "19d746c3f8e01c90"
  },
  {
   "cell_type": "code",
   "execution_count": 16,
   "outputs": [],
   "source": [
    "inter_polysemes_ = []\n",
    "for word in inter_polysemes:\n",
    "    dictionary = word[-1]\n",
    "    values = list(dictionary.values())\n",
    "    if len(values) >= 2:\n",
    "        highest_two = sorted(dictionary.values(), reverse=True)[:2]\n",
    "        ratio = ((100 * highest_two[1]) // highest_two[0]) / 100\n",
    "        sorted_senses = dict(sorted(word[2].items(), key=lambda x: x[1], reverse=True))\n",
    "        inter_polysemes_.append((word[0], word[1], sorted_senses, len(sorted_senses), word[3], ratio))"
   ],
   "metadata": {
    "collapsed": false,
    "ExecuteTime": {
     "end_time": "2024-01-03T11:43:32.047222100Z",
     "start_time": "2024-01-03T11:43:32.036636800Z"
    }
   },
   "id": "59848a879cc0d1c1"
  },
  {
   "cell_type": "code",
   "execution_count": 17,
   "outputs": [],
   "source": [
    "inter_polysemes = [word for word in sorted(inter_polysemes_, key=lambda x: x[-1], reverse=True) if word[1] >= 100]"
   ],
   "metadata": {
    "collapsed": false,
    "ExecuteTime": {
     "end_time": "2024-01-03T11:43:32.056752800Z",
     "start_time": "2024-01-03T11:43:32.041887900Z"
    }
   },
   "id": "5ce5d89205b3dc86"
  },
  {
   "cell_type": "code",
   "execution_count": 18,
   "outputs": [],
   "source": [
    "inter_polysemes = [word for word in inter_polysemes if ('ADJ' not in list(word[4].keys())) and ('ADV' not in list(word[4].keys()))]"
   ],
   "metadata": {
    "collapsed": false,
    "ExecuteTime": {
     "end_time": "2024-01-03T11:43:32.078884800Z",
     "start_time": "2024-01-03T11:43:32.057851900Z"
    }
   },
   "id": "e95d4e0841c3bc"
  },
  {
   "cell_type": "code",
   "execution_count": 19,
   "outputs": [],
   "source": [
    "inter_polysemes = inter_polysemes[:20]"
   ],
   "metadata": {
    "collapsed": false,
    "ExecuteTime": {
     "end_time": "2024-01-03T11:43:32.089656500Z",
     "start_time": "2024-01-03T11:43:32.074709500Z"
    }
   },
   "id": "14ecd522c99cbb4"
  },
  {
   "cell_type": "code",
   "execution_count": 20,
   "outputs": [],
   "source": [
    "# inter_polysemes"
   ],
   "metadata": {
    "collapsed": false,
    "ExecuteTime": {
     "end_time": "2024-01-03T11:43:32.147296100Z",
     "start_time": "2024-01-03T11:43:32.089656500Z"
    }
   },
   "id": "4157c3c8a06db8ea"
  },
  {
   "cell_type": "markdown",
   "source": [],
   "metadata": {
    "collapsed": false
   },
   "id": "313a01267d2752f5"
  },
  {
   "cell_type": "code",
   "execution_count": 21,
   "outputs": [],
   "source": [
    "intra_polysemes = [(word.value, word.count, word.sense_counts, word.pos_counts) for word in polysemes.words.values()]"
   ],
   "metadata": {
    "collapsed": false,
    "ExecuteTime": {
     "end_time": "2024-01-03T11:43:32.170718100Z",
     "start_time": "2024-01-03T11:43:32.111053100Z"
    }
   },
   "id": "722b526f1a36237a"
  },
  {
   "cell_type": "code",
   "execution_count": 22,
   "outputs": [],
   "source": [
    "intra_polysemes = [word for word in intra_polysemes if len(word[2].keys()) > 1]"
   ],
   "metadata": {
    "collapsed": false,
    "ExecuteTime": {
     "end_time": "2024-01-03T11:43:32.174977600Z",
     "start_time": "2024-01-03T11:43:32.138352500Z"
    }
   },
   "id": "8b98ca001a2dc24"
  },
  {
   "cell_type": "code",
   "execution_count": 23,
   "outputs": [],
   "source": [
    "intra_polysemes = [word for word in intra_polysemes if len(word[-1].keys()) == 1]"
   ],
   "metadata": {
    "collapsed": false,
    "ExecuteTime": {
     "end_time": "2024-01-03T11:43:32.188127200Z",
     "start_time": "2024-01-03T11:43:32.157869900Z"
    }
   },
   "id": "b1aaaf91b2f55628"
  },
  {
   "cell_type": "code",
   "execution_count": 24,
   "outputs": [],
   "source": [
    "intra_polysemes_ = []\n",
    "for word in intra_polysemes:\n",
    "    senses = word[2]\n",
    "    sorted_senses = dict(sorted(senses.items(), key=lambda x: x[1], reverse=True))\n",
    "    highest_two = sorted(sorted_senses.values(), reverse=True)[:2]\n",
    "    ratio = ((100 * highest_two[1]) // highest_two[0]) / 100\n",
    "    intra_polysemes_.append((word[0], word[1], sorted_senses, len(sorted_senses), word[3], ratio))"
   ],
   "metadata": {
    "collapsed": false,
    "ExecuteTime": {
     "end_time": "2024-01-03T11:43:32.265407900Z",
     "start_time": "2024-01-03T11:43:32.170718100Z"
    }
   },
   "id": "578d5ccd34200508"
  },
  {
   "cell_type": "code",
   "execution_count": 25,
   "outputs": [],
   "source": [
    "intra_polysemes = sorted(intra_polysemes_, key=lambda x: x[-1], reverse=True)"
   ],
   "metadata": {
    "collapsed": false,
    "ExecuteTime": {
     "end_time": "2024-01-03T11:43:32.267676600Z",
     "start_time": "2024-01-03T11:43:32.256139800Z"
    }
   },
   "id": "d7e57c23178d1df7"
  },
  {
   "cell_type": "code",
   "execution_count": 26,
   "outputs": [],
   "source": [
    "intra_polysemes = [word for word in intra_polysemes if word[1] >= 90]"
   ],
   "metadata": {
    "collapsed": false,
    "ExecuteTime": {
     "end_time": "2024-01-03T11:43:32.280945500Z",
     "start_time": "2024-01-03T11:43:32.256139800Z"
    }
   },
   "id": "26302a3710b10910"
  },
  {
   "cell_type": "code",
   "execution_count": 27,
   "outputs": [],
   "source": [
    "polysemic_nouns = [word for word in intra_polysemes if 'NOUN' in word[-2].keys()]"
   ],
   "metadata": {
    "collapsed": false,
    "ExecuteTime": {
     "end_time": "2024-01-03T11:43:32.281976400Z",
     "start_time": "2024-01-03T11:43:32.256139800Z"
    }
   },
   "id": "b07ec77f50a3e98a"
  },
  {
   "cell_type": "code",
   "execution_count": 28,
   "outputs": [],
   "source": [
    "polysemic_nouns = [word for word in polysemic_nouns if word[0] in ['church', 'life', 'section', 'thing', 'cell', 'feeling', 'business', 'moment', 'job', 'history']]"
   ],
   "metadata": {
    "collapsed": false,
    "ExecuteTime": {
     "end_time": "2024-01-03T11:43:32.283415500Z",
     "start_time": "2024-01-03T11:43:32.256139800Z"
    }
   },
   "id": "dc42fc8d68fbc056"
  },
  {
   "cell_type": "code",
   "execution_count": 29,
   "outputs": [],
   "source": [
    "polysemic_verbs = [word for word in intra_polysemes if 'VERB' in word[-2].keys()]"
   ],
   "metadata": {
    "collapsed": false,
    "ExecuteTime": {
     "end_time": "2024-01-03T11:43:32.306466200Z",
     "start_time": "2024-01-03T11:43:32.265407900Z"
    }
   },
   "id": "57aa1919b5b50f98"
  },
  {
   "cell_type": "code",
   "execution_count": 30,
   "outputs": [],
   "source": [
    "polysemic_verbs = [word for word in polysemic_verbs if word[0] in ['accept', 'come', 'grow', 'recognize', 'appear', 'take', 'think', 'follow', 'serve', 'apply']]"
   ],
   "metadata": {
    "collapsed": false,
    "ExecuteTime": {
     "end_time": "2024-01-03T11:43:32.309594300Z",
     "start_time": "2024-01-03T11:43:32.281976400Z"
    }
   },
   "id": "184daa4bb5a6ec60"
  },
  {
   "cell_type": "code",
   "execution_count": 31,
   "outputs": [],
   "source": [
    "intra_polysemes = polysemic_nouns + polysemic_verbs"
   ],
   "metadata": {
    "collapsed": false,
    "ExecuteTime": {
     "end_time": "2024-01-03T11:43:32.322268100Z",
     "start_time": "2024-01-03T11:43:32.296263700Z"
    }
   },
   "id": "f7f5a31a14256d09"
  },
  {
   "cell_type": "code",
   "execution_count": 32,
   "outputs": [],
   "source": [
    "# intra_polysemes"
   ],
   "metadata": {
    "collapsed": false,
    "ExecuteTime": {
     "end_time": "2024-01-03T11:43:32.340933100Z",
     "start_time": "2024-01-03T11:43:32.311840900Z"
    }
   },
   "id": "407006730f05bf9"
  },
  {
   "cell_type": "markdown",
   "source": [],
   "metadata": {
    "collapsed": false
   },
   "id": "eaf6101111f472b2"
  },
  {
   "cell_type": "code",
   "execution_count": 33,
   "outputs": [],
   "source": [
    "words = [[word[0], 'Monoseme'] for word in monosemes] + [[word[0], 'Interclass polyseme'] for word in inter_polysemes] + [[word[0], 'Intraclass polyseme'] for word in intra_polysemes]"
   ],
   "metadata": {
    "collapsed": false,
    "ExecuteTime": {
     "end_time": "2024-01-03T11:43:32.343072300Z",
     "start_time": "2024-01-03T11:43:32.329297700Z"
    }
   },
   "id": "ee1ce8943fb6164c"
  },
  {
   "cell_type": "code",
   "execution_count": 34,
   "outputs": [],
   "source": [
    "dataframe = pd.DataFrame(words, columns=['Word', 'Type'])"
   ],
   "metadata": {
    "collapsed": false,
    "ExecuteTime": {
     "end_time": "2024-01-03T11:43:32.373884500Z",
     "start_time": "2024-01-03T11:43:32.342053600Z"
    }
   },
   "id": "96f056a08a9fec46"
  },
  {
   "cell_type": "code",
   "execution_count": 35,
   "outputs": [],
   "source": [
    "save_csv(dataframe, words_path)"
   ],
   "metadata": {
    "collapsed": false,
    "ExecuteTime": {
     "end_time": "2024-01-03T11:43:32.374926400Z",
     "start_time": "2024-01-03T11:43:32.358058300Z"
    }
   },
   "id": "c4cf27574c022942"
  },
  {
   "cell_type": "code",
   "execution_count": 36,
   "outputs": [],
   "source": [
    "mono = sorted([x[0] for x in monosemes])"
   ],
   "metadata": {
    "collapsed": false,
    "ExecuteTime": {
     "end_time": "2024-01-03T11:43:32.389778700Z",
     "start_time": "2024-01-03T11:43:32.375963Z"
    }
   },
   "id": "60f617a62d75f50a"
  },
  {
   "cell_type": "code",
   "execution_count": 37,
   "outputs": [],
   "source": [
    "inter = sorted([x[0] for x in inter_polysemes])"
   ],
   "metadata": {
    "collapsed": false,
    "ExecuteTime": {
     "end_time": "2024-01-03T11:43:32.410618300Z",
     "start_time": "2024-01-03T11:43:32.389778700Z"
    }
   },
   "id": "c8e38230497d5fa2"
  },
  {
   "cell_type": "code",
   "execution_count": 38,
   "outputs": [],
   "source": [
    "intra = sorted([x[0] for x in intra_polysemes])"
   ],
   "metadata": {
    "collapsed": false,
    "ExecuteTime": {
     "end_time": "2024-01-03T11:43:32.421620500Z",
     "start_time": "2024-01-03T11:43:32.406431Z"
    }
   },
   "id": "8697cd22c2569327"
  },
  {
   "cell_type": "code",
   "execution_count": 39,
   "outputs": [],
   "source": [
    "with open('C:\\\\Users\\\\its_d\\\\Desktop\\\\words.txt', 'w') as file:\n",
    "    for x, y, z in zip(mono, inter, intra):\n",
    "        file.write(f'{x} & {y} & {z}\\\\\\\\\\n')"
   ],
   "metadata": {
    "collapsed": false,
    "ExecuteTime": {
     "end_time": "2024-01-03T11:43:32.438638900Z",
     "start_time": "2024-01-03T11:43:32.421620500Z"
    }
   },
   "id": "d2f05824673b8e4"
  },
  {
   "cell_type": "markdown",
   "source": [],
   "metadata": {
    "collapsed": false
   },
   "id": "9546822a1d2de3da"
  }
 ],
 "metadata": {
  "kernelspec": {
   "display_name": "Python 3",
   "language": "python",
   "name": "python3"
  },
  "language_info": {
   "codemirror_mode": {
    "name": "ipython",
    "version": 2
   },
   "file_extension": ".py",
   "mimetype": "text/x-python",
   "name": "python",
   "nbconvert_exporter": "python",
   "pygments_lexer": "ipython2",
   "version": "2.7.6"
  }
 },
 "nbformat": 4,
 "nbformat_minor": 5
}
